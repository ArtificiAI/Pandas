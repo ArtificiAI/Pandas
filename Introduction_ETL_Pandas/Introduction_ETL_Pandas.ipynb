{
 "cells": [
  {
   "cell_type": "markdown",
   "metadata": {},
   "source": [
    "# Exemples sur l'utilisation de pandas pour l'extraction et l'exportation de données\n",
    "\n",
    "Voici une série d'exemple de comment exploiter les Pandas. Les Pandas sont de gentilles petites créatures poilus vivant en chine... Mais ce n'est pas probablement la raison de votre lecture. ;)\n",
    "\n",
    "Le *package* ***pandas*** de python permet de manipuler des données comme des matrices mais dans une plus grande mesure que les matrices comme tel. Il faut comprendre que ***numpy*** a une panoplie d'utilisation, mais il a certaine limite que ***pandas*** vient régler, dont la possibilité d'une plus grande utilisation de la mémoire.\n",
    "\n",
    "***Pandas*** permets d'avoir des entêtes comme une base de donnée aurait, ce que ***numpy*** n'a pas.\n",
    "\n",
    "J'assume que le lecteur a une certaine base de connaissance en python.\n",
    "\n",
    "L'information spécifique est disponible ici : https://pandas.pydata.org/pandas-docs/stable/reference/io.html\n",
    "\n"
   ]
  },
  {
   "cell_type": "markdown",
   "metadata": {},
   "source": [
    "Commençons par importer le package :"
   ]
  },
  {
   "cell_type": "code",
   "execution_count": 1,
   "metadata": {},
   "outputs": [],
   "source": [
    "import pandas as pd"
   ]
  },
  {
   "cell_type": "markdown",
   "metadata": {},
   "source": [
    "# Importation\n",
    "## Importation d'un *CSV*\n",
    "Commençons par l'importation d'un *CSV* (fichier plat) car c'est l'un des plus fréquent."
   ]
  },
  {
   "cell_type": "code",
   "execution_count": 15,
   "metadata": {},
   "outputs": [],
   "source": [
    "csv = pd.read_csv(\"test.csv\", sep=\"\\t\")"
   ]
  },
  {
   "cell_type": "markdown",
   "metadata": {},
   "source": [
    "La fonction **head()** permet d'avoir un apperçu de la représentation de ce qui a été chargé en mémoire sous pandas. Il y aura l'entête et les 5 premières lignes du *dataset*. Dans mon exemple, je n'ai que 4 lignes de données.\n",
    "\n",
    "Voici le contenu du fichier *test.csv* :\n",
    "```\n",
    "texte\tcolonneA\tcolonneB\n",
    "test1\tA1\tB1\n",
    "test2\tA2\tB2\n",
    "test3\tA3\tB3\n",
    "test4\tA4\tB4\n",
    "\n",
    "```\n",
    "Comme on peut le voir, j'ai mis comme séparateur des tabulations, d'où le ***\\t***. j'aurais très bien pu prendre des ***;*** comme dans la plupart des *CSV*, mais je voulais en faire un exemple où je pouvais choisir le type de séparateur."
   ]
  },
  {
   "cell_type": "code",
   "execution_count": 16,
   "metadata": {},
   "outputs": [
    {
     "data": {
      "text/html": [
       "<div>\n",
       "<style scoped>\n",
       "    .dataframe tbody tr th:only-of-type {\n",
       "        vertical-align: middle;\n",
       "    }\n",
       "\n",
       "    .dataframe tbody tr th {\n",
       "        vertical-align: top;\n",
       "    }\n",
       "\n",
       "    .dataframe thead th {\n",
       "        text-align: right;\n",
       "    }\n",
       "</style>\n",
       "<table border=\"1\" class=\"dataframe\">\n",
       "  <thead>\n",
       "    <tr style=\"text-align: right;\">\n",
       "      <th></th>\n",
       "      <th>texte</th>\n",
       "      <th>colonneA</th>\n",
       "      <th>colonneB</th>\n",
       "    </tr>\n",
       "  </thead>\n",
       "  <tbody>\n",
       "    <tr>\n",
       "      <th>0</th>\n",
       "      <td>test1</td>\n",
       "      <td>A1</td>\n",
       "      <td>B1</td>\n",
       "    </tr>\n",
       "    <tr>\n",
       "      <th>1</th>\n",
       "      <td>test2</td>\n",
       "      <td>A2</td>\n",
       "      <td>B2</td>\n",
       "    </tr>\n",
       "    <tr>\n",
       "      <th>2</th>\n",
       "      <td>test3</td>\n",
       "      <td>A3</td>\n",
       "      <td>B3</td>\n",
       "    </tr>\n",
       "    <tr>\n",
       "      <th>3</th>\n",
       "      <td>test4</td>\n",
       "      <td>A4</td>\n",
       "      <td>B4</td>\n",
       "    </tr>\n",
       "  </tbody>\n",
       "</table>\n",
       "</div>"
      ],
      "text/plain": [
       "   texte colonneA colonneB\n",
       "0  test1       A1       B1\n",
       "1  test2       A2       B2\n",
       "2  test3       A3       B3\n",
       "3  test4       A4       B4"
      ]
     },
     "execution_count": 16,
     "metadata": {},
     "output_type": "execute_result"
    }
   ],
   "source": [
    "csv.head()"
   ]
  },
  {
   "cell_type": "markdown",
   "metadata": {},
   "source": [
    "## Importation d'un json"
   ]
  },
  {
   "cell_type": "markdown",
   "metadata": {},
   "source": [
    "Maintenant, nous pouvons faire l'importation à partir d'un fichier *json*. Voici le contenu du fichier :\n",
    "\n",
    "```\n",
    "{\n",
    " \"texte\":\n",
    "         {\n",
    "          \"0\":\"test1\",\n",
    "          \"1\":\"test2\",\n",
    "          \"2\":\"test3\",\n",
    "          \"3\":\"test4\"\n",
    "         },\n",
    " \"colonneA\":\n",
    "            {\n",
    "             \"0\":\"A1\",\n",
    "             \"1\":\"A2\",\n",
    "             \"2\":\"A3\",\n",
    "             \"3\":\"A4\"\n",
    "            },\n",
    " \"colonneB\":\n",
    "            {\n",
    "             \"0\":\"B1\",\n",
    "             \"1\":\"B2\",\n",
    "             \"2\":\"B3\",\n",
    "             \"3\":\"B4\"\n",
    "            }\n",
    "}\n",
    "```\n",
    "\n",
    "Cependant, je dois avouer que j'ai triché. En effet, je me suis servi de *pandas* pour générer ce fichier *json* à partir du fichier *CSV*. Voici comment faire :"
   ]
  },
  {
   "cell_type": "code",
   "execution_count": null,
   "metadata": {},
   "outputs": [],
   "source": [
    "csv.to_json(\"test.json\")"
   ]
  },
  {
   "cell_type": "code",
   "execution_count": 3,
   "metadata": {},
   "outputs": [
    {
     "data": {
      "text/html": [
       "<div>\n",
       "<style scoped>\n",
       "    .dataframe tbody tr th:only-of-type {\n",
       "        vertical-align: middle;\n",
       "    }\n",
       "\n",
       "    .dataframe tbody tr th {\n",
       "        vertical-align: top;\n",
       "    }\n",
       "\n",
       "    .dataframe thead th {\n",
       "        text-align: right;\n",
       "    }\n",
       "</style>\n",
       "<table border=\"1\" class=\"dataframe\">\n",
       "  <thead>\n",
       "    <tr style=\"text-align: right;\">\n",
       "      <th></th>\n",
       "      <th>texte</th>\n",
       "      <th>colonneA</th>\n",
       "      <th>colonneB</th>\n",
       "    </tr>\n",
       "  </thead>\n",
       "  <tbody>\n",
       "    <tr>\n",
       "      <th>0</th>\n",
       "      <td>test1</td>\n",
       "      <td>A1</td>\n",
       "      <td>B1</td>\n",
       "    </tr>\n",
       "    <tr>\n",
       "      <th>1</th>\n",
       "      <td>test2</td>\n",
       "      <td>A2</td>\n",
       "      <td>B2</td>\n",
       "    </tr>\n",
       "    <tr>\n",
       "      <th>2</th>\n",
       "      <td>test3</td>\n",
       "      <td>A3</td>\n",
       "      <td>B3</td>\n",
       "    </tr>\n",
       "    <tr>\n",
       "      <th>3</th>\n",
       "      <td>test4</td>\n",
       "      <td>A4</td>\n",
       "      <td>B4</td>\n",
       "    </tr>\n",
       "  </tbody>\n",
       "</table>\n",
       "</div>"
      ],
      "text/plain": [
       "   texte colonneA colonneB\n",
       "0  test1       A1       B1\n",
       "1  test2       A2       B2\n",
       "2  test3       A3       B3\n",
       "3  test4       A4       B4"
      ]
     },
     "execution_count": 3,
     "metadata": {},
     "output_type": "execute_result"
    }
   ],
   "source": [
    "json = pd.read_json(\"test.json\")\n",
    "json.head()"
   ]
  },
  {
   "cell_type": "markdown",
   "metadata": {},
   "source": [
    "## Importation d'un HTML\n",
    "Maintenant, nous pouvons faire l'importation à partir d'un fichier *html*. Voici le contenu du fichier :\n",
    "```\n",
    "<table border=\"1\" class=\"dataframe\">\n",
    "  <thead>\n",
    "    <tr style=\"text-align: right;\">\n",
    "      <th></th>\n",
    "      <th>texte</th>\n",
    "      <th>colonneA</th>\n",
    "      <th>colonneB</th>\n",
    "    </tr>\n",
    "  </thead>\n",
    "  <tbody>\n",
    "    <tr>\n",
    "      <th>0</th>\n",
    "      <td>test1</td>\n",
    "      <td>A1</td>\n",
    "      <td>B1</td>\n",
    "    </tr>\n",
    "    <tr>\n",
    "      <th>1</th>\n",
    "      <td>test2</td>\n",
    "      <td>A2</td>\n",
    "      <td>B2</td>\n",
    "    </tr>\n",
    "    <tr>\n",
    "      <th>2</th>\n",
    "      <td>test3</td>\n",
    "      <td>A3</td>\n",
    "      <td>B3</td>\n",
    "    </tr>\n",
    "    <tr>\n",
    "      <th>3</th>\n",
    "      <td>test4</td>\n",
    "      <td>A4</td>\n",
    "      <td>B4</td>\n",
    "    </tr>\n",
    "  </tbody>\n",
    "</table>\n",
    "```\n",
    "\n",
    "Encore une fois, j'ai triché. ;)"
   ]
  },
  {
   "cell_type": "code",
   "execution_count": null,
   "metadata": {},
   "outputs": [],
   "source": [
    "csv.to_html(\"test.html\")"
   ]
  },
  {
   "cell_type": "code",
   "execution_count": 17,
   "metadata": {},
   "outputs": [
    {
     "ename": "AttributeError",
     "evalue": "'list' object has no attribute 'head'",
     "output_type": "error",
     "traceback": [
      "\u001b[0;31m---------------------------------------------------------------------------\u001b[0m",
      "\u001b[0;31mAttributeError\u001b[0m                            Traceback (most recent call last)",
      "\u001b[0;32m<ipython-input-17-38df58dd34ad>\u001b[0m in \u001b[0;36m<module>\u001b[0;34m\u001b[0m\n\u001b[1;32m      1\u001b[0m \u001b[0mhtml\u001b[0m \u001b[0;34m=\u001b[0m \u001b[0mpd\u001b[0m\u001b[0;34m.\u001b[0m\u001b[0mread_html\u001b[0m\u001b[0;34m(\u001b[0m\u001b[0;34m\"test.html\"\u001b[0m\u001b[0;34m)\u001b[0m\u001b[0;34m\u001b[0m\u001b[0;34m\u001b[0m\u001b[0m\n\u001b[0;32m----> 2\u001b[0;31m \u001b[0mhtml\u001b[0m\u001b[0;34m.\u001b[0m\u001b[0mhead\u001b[0m\u001b[0;34m(\u001b[0m\u001b[0;34m)\u001b[0m\u001b[0;34m\u001b[0m\u001b[0;34m\u001b[0m\u001b[0m\n\u001b[0m",
      "\u001b[0;31mAttributeError\u001b[0m: 'list' object has no attribute 'head'"
     ]
    }
   ],
   "source": [
    "html = pd.read_html(\"test.html\")\n",
    "html.head()"
   ]
  },
  {
   "cell_type": "markdown",
   "metadata": {},
   "source": [
    "Comme on peut le voir, cette fois, le *head()* ne fonctionne pas. Il semblerait que ceux qui maintiennent le code ont préférer le garder comme une liste. Pour pallier à ce problème, il suffit de transformer la liste en *panda.DataFrame*.\n",
    "\n",
    "L'autre particularité est que *read_html* retourne une liste de *DataFrame*. Dans mon cas, je n'ai qu'un seul *DataFrame*, c'est pourquoi je prends *html[0]*."
   ]
  },
  {
   "cell_type": "code",
   "execution_count": 19,
   "metadata": {},
   "outputs": [
    {
     "name": "stdout",
     "output_type": "stream",
     "text": [
      "[   Unnamed: 0  texte colonneA colonneB\n",
      "0           0  test1       A1       B1\n",
      "1           1  test2       A2       B2\n",
      "2           2  test3       A3       B3\n",
      "3           3  test4       A4       B4]\n"
     ]
    }
   ],
   "source": [
    "print(html)"
   ]
  },
  {
   "cell_type": "code",
   "execution_count": 23,
   "metadata": {},
   "outputs": [
    {
     "data": {
      "text/html": [
       "<div>\n",
       "<style scoped>\n",
       "    .dataframe tbody tr th:only-of-type {\n",
       "        vertical-align: middle;\n",
       "    }\n",
       "\n",
       "    .dataframe tbody tr th {\n",
       "        vertical-align: top;\n",
       "    }\n",
       "\n",
       "    .dataframe thead th {\n",
       "        text-align: right;\n",
       "    }\n",
       "</style>\n",
       "<table border=\"1\" class=\"dataframe\">\n",
       "  <thead>\n",
       "    <tr style=\"text-align: right;\">\n",
       "      <th></th>\n",
       "      <th>unamed</th>\n",
       "      <th>texte</th>\n",
       "      <th>colonneA</th>\n",
       "      <th>colonneB</th>\n",
       "    </tr>\n",
       "  </thead>\n",
       "  <tbody>\n",
       "    <tr>\n",
       "      <th>0</th>\n",
       "      <td>NaN</td>\n",
       "      <td>test1</td>\n",
       "      <td>A1</td>\n",
       "      <td>B1</td>\n",
       "    </tr>\n",
       "    <tr>\n",
       "      <th>1</th>\n",
       "      <td>NaN</td>\n",
       "      <td>test2</td>\n",
       "      <td>A2</td>\n",
       "      <td>B2</td>\n",
       "    </tr>\n",
       "    <tr>\n",
       "      <th>2</th>\n",
       "      <td>NaN</td>\n",
       "      <td>test3</td>\n",
       "      <td>A3</td>\n",
       "      <td>B3</td>\n",
       "    </tr>\n",
       "    <tr>\n",
       "      <th>3</th>\n",
       "      <td>NaN</td>\n",
       "      <td>test4</td>\n",
       "      <td>A4</td>\n",
       "      <td>B4</td>\n",
       "    </tr>\n",
       "  </tbody>\n",
       "</table>\n",
       "</div>"
      ],
      "text/plain": [
       "   unamed  texte colonneA colonneB\n",
       "0     NaN  test1       A1       B1\n",
       "1     NaN  test2       A2       B2\n",
       "2     NaN  test3       A3       B3\n",
       "3     NaN  test4       A4       B4"
      ]
     },
     "execution_count": 23,
     "metadata": {},
     "output_type": "execute_result"
    }
   ],
   "source": [
    "htmldf = pd.DataFrame(html[0], columns=[\"unamed\", \"texte\", \"colonneA\", \"colonneB\"])\n",
    "htmldf.head()"
   ]
  },
  {
   "cell_type": "markdown",
   "metadata": {},
   "source": [
    "La seconde particularité, c'est que le code *html* contient une colonne *unamed*, nous pouvons retirer cette colonne."
   ]
  },
  {
   "cell_type": "code",
   "execution_count": 26,
   "metadata": {},
   "outputs": [
    {
     "data": {
      "text/html": [
       "<div>\n",
       "<style scoped>\n",
       "    .dataframe tbody tr th:only-of-type {\n",
       "        vertical-align: middle;\n",
       "    }\n",
       "\n",
       "    .dataframe tbody tr th {\n",
       "        vertical-align: top;\n",
       "    }\n",
       "\n",
       "    .dataframe thead th {\n",
       "        text-align: right;\n",
       "    }\n",
       "</style>\n",
       "<table border=\"1\" class=\"dataframe\">\n",
       "  <thead>\n",
       "    <tr style=\"text-align: right;\">\n",
       "      <th></th>\n",
       "      <th>texte</th>\n",
       "      <th>colonneA</th>\n",
       "      <th>colonneB</th>\n",
       "    </tr>\n",
       "  </thead>\n",
       "  <tbody>\n",
       "    <tr>\n",
       "      <th>0</th>\n",
       "      <td>test1</td>\n",
       "      <td>A1</td>\n",
       "      <td>B1</td>\n",
       "    </tr>\n",
       "    <tr>\n",
       "      <th>1</th>\n",
       "      <td>test2</td>\n",
       "      <td>A2</td>\n",
       "      <td>B2</td>\n",
       "    </tr>\n",
       "    <tr>\n",
       "      <th>2</th>\n",
       "      <td>test3</td>\n",
       "      <td>A3</td>\n",
       "      <td>B3</td>\n",
       "    </tr>\n",
       "    <tr>\n",
       "      <th>3</th>\n",
       "      <td>test4</td>\n",
       "      <td>A4</td>\n",
       "      <td>B4</td>\n",
       "    </tr>\n",
       "  </tbody>\n",
       "</table>\n",
       "</div>"
      ],
      "text/plain": [
       "   texte colonneA colonneB\n",
       "0  test1       A1       B1\n",
       "1  test2       A2       B2\n",
       "2  test3       A3       B3\n",
       "3  test4       A4       B4"
      ]
     },
     "execution_count": 26,
     "metadata": {},
     "output_type": "execute_result"
    }
   ],
   "source": [
    "htmldf = htmldf.drop(columns=\"unamed\")\n",
    "htmldf.head()"
   ]
  },
  {
   "cell_type": "markdown",
   "metadata": {},
   "source": [
    "## Importation d'un Excel\n",
    "\n",
    "Je pense que vous commencez à me connaître..."
   ]
  },
  {
   "cell_type": "code",
   "execution_count": null,
   "metadata": {},
   "outputs": [],
   "source": [
    "csv.to_excel(\"test.xlsx\")"
   ]
  },
  {
   "cell_type": "code",
   "execution_count": 27,
   "metadata": {},
   "outputs": [
    {
     "data": {
      "text/html": [
       "<div>\n",
       "<style scoped>\n",
       "    .dataframe tbody tr th:only-of-type {\n",
       "        vertical-align: middle;\n",
       "    }\n",
       "\n",
       "    .dataframe tbody tr th {\n",
       "        vertical-align: top;\n",
       "    }\n",
       "\n",
       "    .dataframe thead th {\n",
       "        text-align: right;\n",
       "    }\n",
       "</style>\n",
       "<table border=\"1\" class=\"dataframe\">\n",
       "  <thead>\n",
       "    <tr style=\"text-align: right;\">\n",
       "      <th></th>\n",
       "      <th>Unnamed: 0</th>\n",
       "      <th>texte</th>\n",
       "      <th>colonneA</th>\n",
       "      <th>colonneB</th>\n",
       "    </tr>\n",
       "  </thead>\n",
       "  <tbody>\n",
       "    <tr>\n",
       "      <th>0</th>\n",
       "      <td>0</td>\n",
       "      <td>test1</td>\n",
       "      <td>A1</td>\n",
       "      <td>B1</td>\n",
       "    </tr>\n",
       "    <tr>\n",
       "      <th>1</th>\n",
       "      <td>1</td>\n",
       "      <td>test2</td>\n",
       "      <td>A2</td>\n",
       "      <td>B2</td>\n",
       "    </tr>\n",
       "    <tr>\n",
       "      <th>2</th>\n",
       "      <td>2</td>\n",
       "      <td>test3</td>\n",
       "      <td>A3</td>\n",
       "      <td>B3</td>\n",
       "    </tr>\n",
       "    <tr>\n",
       "      <th>3</th>\n",
       "      <td>3</td>\n",
       "      <td>test4</td>\n",
       "      <td>A4</td>\n",
       "      <td>B4</td>\n",
       "    </tr>\n",
       "  </tbody>\n",
       "</table>\n",
       "</div>"
      ],
      "text/plain": [
       "   Unnamed: 0  texte colonneA colonneB\n",
       "0           0  test1       A1       B1\n",
       "1           1  test2       A2       B2\n",
       "2           2  test3       A3       B3\n",
       "3           3  test4       A4       B4"
      ]
     },
     "execution_count": 27,
     "metadata": {},
     "output_type": "execute_result"
    }
   ],
   "source": [
    "excel = pd.read_excel(\"test.xlsx\")\n",
    "excel.head()"
   ]
  },
  {
   "cell_type": "markdown",
   "metadata": {},
   "source": [
    "## XML to DataFrame"
   ]
  },
  {
   "cell_type": "code",
   "execution_count": 1,
   "metadata": {},
   "outputs": [],
   "source": [
    "# TODO"
   ]
  },
  {
   "cell_type": "markdown",
   "metadata": {},
   "source": [
    "## String to DataFrame\n",
    "\n",
    "https://stackoverflow.com/questions/22604564/create-pandas-dataframe-from-a-string"
   ]
  },
  {
   "cell_type": "code",
   "execution_count": 2,
   "metadata": {},
   "outputs": [],
   "source": [
    "# TODO"
   ]
  },
  {
   "cell_type": "markdown",
   "metadata": {},
   "source": [
    "## Importation à partir d'une BD SQL avec l'identifiant de connexion encrypté\n",
    "\n",
    "C'est bien beau, mais nous sommes toujours à partir d'un fichier. C'est bien pour des petits projets, mais pour de plus grand projet avec des bases de données, ce devrait être plus difficile? Pas vraiment. Mais avant de commencer, je pourrais faire le code avec les paramètre de connexions, je souhaiterais soulever le point sur la sécurité de ces informations. faisons un petit détour pour voir ceci. Si ceci ne vous intéresse pas, vous pouvez passer à la prochaine section.\n",
    "\n",
    "L'information pour voir comment faire l'encryption est disponible ici :\n",
    "https://www.mssqltips.com/sqlservertip/5173/encrypting-passwords-for-use-with-python-and-sql-server/"
   ]
  },
  {
   "cell_type": "code",
   "execution_count": 6,
   "metadata": {},
   "outputs": [],
   "source": [
    "from cryptography.fernet import Fernet "
   ]
  },
  {
   "cell_type": "markdown",
   "metadata": {},
   "source": [
    "J'ai généré la clé une fois puis je l'ai enregistré dans un fichier :"
   ]
  },
  {
   "cell_type": "code",
   "execution_count": 13,
   "metadata": {},
   "outputs": [],
   "source": [
    "#banana_key = Fernet.generate_key()\n",
    "#with open('../security/banana_ms_sql_key.bin', 'wb') as file_object:  file_object.write(banana_key)\n",
    "#print(banana_key)"
   ]
  },
  {
   "cell_type": "markdown",
   "metadata": {},
   "source": [
    "Il faut comprendre qu'une fois que la clé est enregistrée, il ne faut pas la regénérer car ne serions plus capable décoder l'information qui est encrypté."
   ]
  },
  {
   "cell_type": "markdown",
   "metadata": {},
   "source": [
    "Puisque la clé est déjà enregistré dans un fichier, nous pouvons l'utiliser pour décoder les informations nécessaire pour la connexion à la BD."
   ]
  },
  {
   "cell_type": "code",
   "execution_count": 7,
   "metadata": {},
   "outputs": [],
   "source": [
    "with open('../security/banana_ms_sql_key.bin', 'rb') as file_object:\n",
    "    for line in file_object:\n",
    "        banana_key = line\n",
    "cipher_suite = Fernet(banana_key)"
   ]
  },
  {
   "cell_type": "code",
   "execution_count": 8,
   "metadata": {},
   "outputs": [],
   "source": [
    "with open('../security/banana_ms_sql_info.bin', 'rb') as file_object:\n",
    "    for line in file_object:\n",
    "        encryptedinfo = line"
   ]
  },
  {
   "cell_type": "code",
   "execution_count": 9,
   "metadata": {},
   "outputs": [],
   "source": [
    "uncipher_text = (cipher_suite.decrypt(encryptedinfo))\n",
    "plain_text_encrypted_dbindo = bytes(uncipher_text).decode(\"utf-8\")"
   ]
  },
  {
   "cell_type": "markdown",
   "metadata": {},
   "source": [
    "Maintenant que nous avons l'information désencrypté, nous pouvons l'utiliser! Pas tout à fait. Il s'agit d'une chaine de caractère au plus simple. À moins de faire du traitement, ce qui peut être fastidieux, il est difficile d'y extraire l'information directement. Mais je l'en encodé sous forme de dictionnaire. En utilisant *ast*, je peux transformer la chaine en un dictionnaire :"
   ]
  },
  {
   "cell_type": "code",
   "execution_count": 10,
   "metadata": {},
   "outputs": [],
   "source": [
    "import ast\n",
    "dbinformation = ast.literal_eval(plain_text_encrypted_dbindo)"
   ]
  },
  {
   "cell_type": "markdown",
   "metadata": {},
   "source": [
    "Avant d'ouvrir la conexion, si c'est la première fois, il vous faut OBDC\n",
    "\n",
    "https://docs.microsoft.com/en-us/sql/connect/odbc/linux-mac/installing-the-microsoft-odbc-driver-for-sql-server?view=sql-server-ver15#ubuntu17\n",
    "\n",
    "https://docs.microsoft.com/en-us/sql/connect/python/pyodbc/step-1-configure-development-environment-for-pyodbc-python-development?view=sql-server-ver15"
   ]
  },
  {
   "cell_type": "code",
   "execution_count": 11,
   "metadata": {},
   "outputs": [],
   "source": [
    "import pyodbc\n",
    "\n",
    "driver = \"/opt/microsoft/msodbcsql17/lib64/libmsodbcsql-17.6.so.1.1\"\n",
    "server = dbinformation[\"data source\"]\n",
    "database = dbinformation[\"initial catalog\"]\n",
    "uid = dbinformation[\"user id\"]\n",
    "password = dbinformation[\"password\"]\n",
    "\n",
    "cnxn_str = (f\"Driver={driver};Server={server};Database={database};UID={uid};PWD={password};\")\n",
    "\n",
    "conn = pyodbc.connect(cnxn_str)"
   ]
  },
  {
   "cell_type": "markdown",
   "metadata": {},
   "source": [
    "### Importation à partir d'une BD SQL"
   ]
  },
  {
   "cell_type": "code",
   "execution_count": 12,
   "metadata": {},
   "outputs": [
    {
     "name": "stdout",
     "output_type": "stream",
     "text": [
      "   TABLE_CATALOG TABLE_SCHEMA               TABLE_NAME  TABLE_TYPE\n",
      "0         Banana          dbo                 RssItems  BASE TABLE\n",
      "1         Banana          dbo                ViewItems        VIEW\n",
      "2         Banana          dbo               ViewItems2        VIEW\n",
      "3         Banana          dbo  RssItemsCorrespondances  BASE TABLE\n",
      "4         Banana          dbo            RssCategories  BASE TABLE\n",
      "5         Banana          dbo                 KeyWords  BASE TABLE\n",
      "6         Banana          dbo               Categories  BASE TABLE\n",
      "7         Banana          dbo                   Medias  BASE TABLE\n",
      "8         Banana          dbo          ItemsCategories  BASE TABLE\n",
      "9         Banana          dbo            ItemsKeyWords  BASE TABLE\n",
      "10        Banana          dbo                 RssFeeds  BASE TABLE\n",
      "11        Banana          dbo                  RssUrls  BASE TABLE\n",
      "<class 'pandas.core.frame.DataFrame'>\n"
     ]
    }
   ],
   "source": [
    "sql_query = pd.read_sql_query('SELECT  * FROM  INFORMATION_SCHEMA.TABLES;',conn)\n",
    "print(sql_query)\n",
    "print(type(sql_query))"
   ]
  },
  {
   "cell_type": "code",
   "execution_count": null,
   "metadata": {},
   "outputs": [],
   "source": []
  }
 ],
 "metadata": {
  "kernelspec": {
   "display_name": "Python 3",
   "language": "python",
   "name": "python3"
  },
  "language_info": {
   "codemirror_mode": {
    "name": "ipython",
    "version": 3
   },
   "file_extension": ".py",
   "mimetype": "text/x-python",
   "name": "python",
   "nbconvert_exporter": "python",
   "pygments_lexer": "ipython3",
   "version": "3.7.3"
  }
 },
 "nbformat": 4,
 "nbformat_minor": 4
}
